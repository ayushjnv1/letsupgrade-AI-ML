{
  "nbformat": 4,
  "nbformat_minor": 0,
  "metadata": {
    "colab": {
      "name": "Ai-Ml Assignment day 3",
      "provenance": []
    },
    "kernelspec": {
      "name": "python3",
      "display_name": "Python 3"
    }
  },
  "cells": [
    {
      "cell_type": "markdown",
      "metadata": {
        "id": "4B9AO1X7EJ0n",
        "colab_type": "text"
      },
      "source": [
        "# Question 1"
      ]
    },
    {
      "cell_type": "code",
      "metadata": {
        "id": "6u0PhnxCD96u",
        "colab_type": "code",
        "colab": {
          "base_uri": "https://localhost:8080/",
          "height": 70
        },
        "outputId": "f8a541a7-7e25-476f-e182-b825ccf02c87"
      },
      "source": [
        "# subtraction complex no \n",
        "a=complex(input(\"Enter  the complex no \"))\n",
        "b=complex(input(\"Enter the another complex no\"))\n",
        "c=a-b\n",
        "print(c)"
      ],
      "execution_count": 4,
      "outputs": [
        {
          "output_type": "stream",
          "text": [
            "Enter  the complex no 2+3j\n",
            "Enter the another complex no2+4j\n",
            "-1j\n"
          ],
          "name": "stdout"
        }
      ]
    },
    {
      "cell_type": "markdown",
      "metadata": {
        "id": "lU1oAggyFB1N",
        "colab_type": "text"
      },
      "source": [
        "# Question 2"
      ]
    },
    {
      "cell_type": "code",
      "metadata": {
        "id": "5B-u6FuaFDsm",
        "colab_type": "code",
        "colab": {
          "base_uri": "https://localhost:8080/",
          "height": 52
        },
        "outputId": "5403a39c-ac58-4f83-d0ed-ba082fe626d7"
      },
      "source": [
        "# forth root of a no \n",
        "a=int(input(\"Enter the no to find forth root of no :\"))\n",
        "print(\"forth root of no is : \",a**(1/4) )\n"
      ],
      "execution_count": 6,
      "outputs": [
        {
          "output_type": "stream",
          "text": [
            "Enter the no to find forth root of no81\n",
            "forth root of no is :  3.0\n"
          ],
          "name": "stdout"
        }
      ]
    },
    {
      "cell_type": "markdown",
      "metadata": {
        "id": "Kuz5gO0xFl3r",
        "colab_type": "text"
      },
      "source": [
        "# Question 3"
      ]
    },
    {
      "cell_type": "code",
      "metadata": {
        "id": "e8n686ziFqkg",
        "colab_type": "code",
        "colab": {
          "base_uri": "https://localhost:8080/",
          "height": 87
        },
        "outputId": "81be5318-c7e2-444d-93d9-38c9b6c5ad7b"
      },
      "source": [
        "# value swap using one extra variable\n",
        "a=int(input(\"Enter the no a = \"))\n",
        "b=int(input(\"Enter the no b = \"))\n",
        "c=a\n",
        "a=b\n",
        "b=c\n",
        "print(\"value of a = \",a)\n",
        "print(\"value of b = \",b)"
      ],
      "execution_count": 8,
      "outputs": [
        {
          "output_type": "stream",
          "text": [
            "Enter the no a = 12\n",
            "Enter the no b = 15\n",
            "value of a =  15\n",
            "value of b =  12\n"
          ],
          "name": "stdout"
        }
      ]
    },
    {
      "cell_type": "markdown",
      "metadata": {
        "id": "R-hWofizGXyu",
        "colab_type": "text"
      },
      "source": [
        "# Question 4"
      ]
    },
    {
      "cell_type": "code",
      "metadata": {
        "id": "i_Njb4bzGVHA",
        "colab_type": "code",
        "colab": {
          "base_uri": "https://localhost:8080/",
          "height": 87
        },
        "outputId": "ac095b67-908b-4870-d2fd-11134dfcce51"
      },
      "source": [
        "# value swap\n",
        "a = int(input(\"Enter the no a = \"))\n",
        "b = int(input(\"Enter the no b = \"))\n",
        "a,b=b,a\n",
        "print(\"value of a = \",a)\n",
        "print(\"value of b = \",b)"
      ],
      "execution_count": 9,
      "outputs": [
        {
          "output_type": "stream",
          "text": [
            "Enter the no a = 12\n",
            "Enter the no b = 13\n",
            "value of a =  13\n",
            "value of b =  12\n"
          ],
          "name": "stdout"
        }
      ]
    },
    {
      "cell_type": "markdown",
      "metadata": {
        "id": "aRf0W4dbGuJc",
        "colab_type": "text"
      },
      "source": [
        "# Question 5"
      ]
    },
    {
      "cell_type": "code",
      "metadata": {
        "id": "WeYTINHhG6zi",
        "colab_type": "code",
        "colab": {
          "base_uri": "https://localhost:8080/",
          "height": 70
        },
        "outputId": "62108a8e-dbb4-4686-e417-b2a76970358f"
      },
      "source": [
        "#  convert fahrenheit to kelvin and celsius both\n",
        "f=int(input(\"enter the temp in fahrenheit : \"))\n",
        "c=(5/9)*(f-32)\n",
        "k=c+273.15\n",
        "print(\"temp in celsius : \",c)\n",
        "print(\"temp in kelvin : \",k)\n"
      ],
      "execution_count": 10,
      "outputs": [
        {
          "output_type": "stream",
          "text": [
            "enter the temp in fahrenheit : 40\n",
            "temp in celsius :  4.444444444444445\n",
            "temp in kelvin :  277.59444444444443\n"
          ],
          "name": "stdout"
        }
      ]
    },
    {
      "cell_type": "markdown",
      "metadata": {
        "id": "GO_hvw64IVi3",
        "colab_type": "text"
      },
      "source": [
        "# Question 6"
      ]
    },
    {
      "cell_type": "code",
      "metadata": {
        "id": "PMFxC616IZln",
        "colab_type": "code",
        "colab": {
          "base_uri": "https://localhost:8080/",
          "height": 158
        },
        "outputId": "6673ddae-7696-4514-c8ba-ad6976442221"
      },
      "source": [
        "a= 12\n",
        "print(\"type of a is \",type(a))\n",
        "b=12.0545\n",
        "print(\"type of b is \",type(b))\n",
        "c=True\n",
        "print(\"type of c is \",type(c))\n",
        "d= [1,2,3]\n",
        "print(\"type of d is \",type(d))\n",
        "e=(1,2)\n",
        "print(\"type of e is \",type(e))\n",
        "f={1:2,3:4}\n",
        "print(\"type of f is \",type(f))\n",
        "g=\"lkjhgfds\"\n",
        "print(\"type of g is \",type(g))\n",
        "h={1,2,3}\n",
        "print(\"type of h is \",type(h))"
      ],
      "execution_count": 12,
      "outputs": [
        {
          "output_type": "stream",
          "text": [
            "type of a is  <class 'int'>\n",
            "type of b is  <class 'float'>\n",
            "type of c is  <class 'bool'>\n",
            "type of d is  <class 'list'>\n",
            "type of e is  <class 'tuple'>\n",
            "type of f is  <class 'dict'>\n",
            "type of g is  <class 'str'>\n",
            "type of h is  <class 'set'>\n"
          ],
          "name": "stdout"
        }
      ]
    },
    {
      "cell_type": "markdown",
      "metadata": {
        "id": "EmeuYEdEJq5v",
        "colab_type": "text"
      },
      "source": [
        "# Question 7\n",
        "\n",
        "## create Github profile and upload Githubs Assignment link steps \n",
        "\n",
        "*  first create your account on Github\n",
        "*  click on new Repositories\n",
        "*  then create new Repositories name Letsupgrade-Ai-Ml \n",
        "*  be aware that the  Repositories should public\n",
        "*  then create your assignment folder on your pc \n",
        "*  drag the folder and drop in your Repositories\n",
        "*  open folder and copy the link from search bar \n",
        "*  fill the google form that provide by LU team & paste the link \n",
        "*  press submit button\n",
        "*  for confirmation mail will send by LU team for assignment submission  \n",
        "\n",
        "\n",
        "\n"
      ]
    }
  ]
}