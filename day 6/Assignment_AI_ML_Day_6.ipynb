{
  "nbformat": 4,
  "nbformat_minor": 0,
  "metadata": {
    "colab": {
      "name": "Assignment_AI_ML Day 6",
      "provenance": [],
      "collapsed_sections": []
    },
    "kernelspec": {
      "name": "python3",
      "display_name": "Python 3"
    }
  },
  "cells": [
    {
      "cell_type": "markdown",
      "metadata": {
        "id": "bIdGKEtsyRib",
        "colab_type": "text"
      },
      "source": [
        "# Question 1\n",
        " ## Question 1:\n",
        "Assuming that we have some email addresses in the \"username@companyname.com\" format, please write program\n",
        "to print the company name of a given email address. Both user names and company names are composed of letters\n",
        "only.\n",
        "Input Format:\n",
        "The first line of the input contains an email address.\n",
        "Output Format:\n",
        "Print the company name in single line.\n",
        "Example;\n",
        "Input:\n",
        "john@google.com\n",
        "Output:\n",
        "google"
      ]
    },
    {
      "cell_type": "code",
      "metadata": {
        "id": "TXlVxBIYx4vw",
        "colab_type": "code",
        "colab": {
          "base_uri": "https://localhost:8080/",
          "height": 52
        },
        "outputId": "4356336b-570f-4bf7-c808-8aa5ca499961"
      },
      "source": [
        "g = input(\"Enter the gmail\")\n",
        "a=g.find(\"@\")\n",
        "if (a!= -1):\n",
        "    print(g[a+1:g.find(\".\")])\n",
        "else :\n",
        "    print(\"please enter the gmail id \")    "
      ],
      "execution_count": null,
      "outputs": [
        {
          "output_type": "stream",
          "text": [
            "Enter the gmailjohn@letsupgrade.com\n",
            "letsupgrade\n"
          ],
          "name": "stdout"
        }
      ]
    },
    {
      "cell_type": "markdown",
      "metadata": {
        "id": "e3gd-teCzdXt",
        "colab_type": "text"
      },
      "source": [
        "# Question 2\n",
        "\n",
        "## Write a program that accepts a comma-separated sequence of words as input and prints the words in a comma\n",
        "separated sequence after sorting them alphabetically.\n",
        "Input Format:\n",
        "The first line of input contains words separated by the comma.\n",
        "Output Format:\n",
        "Print the sorted words separated by the comma.\n",
        "Example:\n",
        "Input:\n",
        "without,hello,bag,world\n",
        "Output:\n",
        "bag,hello,without,world"
      ]
    },
    {
      "cell_type": "code",
      "metadata": {
        "id": "SbOhw9wIzdC9",
        "colab_type": "code",
        "colab": {
          "base_uri": "https://localhost:8080/",
          "height": 52
        },
        "outputId": "8dc077af-dff6-4e5e-df3b-6fe5ba57725c"
      },
      "source": [
        "import functools\n",
        "s=input(\"Enter the String : \")\n",
        "a=s.split(\",\")\n",
        "a.sort()\n",
        "print(functools.reduce(lambda c,b:c+\", \"+b,a))"
      ],
      "execution_count": null,
      "outputs": [
        {
          "output_type": "stream",
          "text": [
            "Enter the String : maheshwari,ayush,jain,himanshu\n",
            "ayush, himanshu, jain, maheshwari\n"
          ],
          "name": "stdout"
        }
      ]
    },
    {
      "cell_type": "markdown",
      "metadata": {
        "id": "SsyndQoze_K-",
        "colab_type": "text"
      },
      "source": [
        "# QUESTION 3\n",
        "\n",
        "## Create your own Jupyter Notebook for Sets.\n"
      ]
    },
    {
      "cell_type": "code",
      "metadata": {
        "id": "W_fhmWDWgmKt",
        "colab_type": "code",
        "colab": {
          "base_uri": "https://localhost:8080/",
          "height": 52
        },
        "outputId": "a152dd20-94ad-4b3d-f0b9-25e2c0465862"
      },
      "source": [
        "a={1,2,3,4,5}\n",
        "print(a)\n",
        "a.add(6)\n",
        "a"
      ],
      "execution_count": 13,
      "outputs": [
        {
          "output_type": "stream",
          "text": [
            "{1, 2, 3, 4, 5}\n"
          ],
          "name": "stdout"
        },
        {
          "output_type": "execute_result",
          "data": {
            "text/plain": [
              "{1, 2, 3, 4, 5, 6}"
            ]
          },
          "metadata": {
            "tags": []
          },
          "execution_count": 13
        }
      ]
    },
    {
      "cell_type": "code",
      "metadata": {
        "id": "tq2vTZOtgqyB",
        "colab_type": "code",
        "colab": {}
      },
      "source": [
        ""
      ],
      "execution_count": null,
      "outputs": []
    },
    {
      "cell_type": "code",
      "metadata": {
        "id": "YWkSjti2fYkV",
        "colab_type": "code",
        "colab": {
          "base_uri": "https://localhost:8080/",
          "height": 70
        },
        "outputId": "d30d396d-d83b-4710-dc14-a8f2356162dc"
      },
      "source": [
        "a={1,2,3,4,5,6}\n",
        "b={2,3,4}\n",
        "c={7,8,9}\n",
        "print(a)\n",
        "print(a.pop()) # remove last value of sets \n",
        "print(a)"
      ],
      "execution_count": 22,
      "outputs": [
        {
          "output_type": "stream",
          "text": [
            "{1, 2, 3, 4, 5, 6}\n",
            "1\n",
            "{2, 3, 4, 5, 6}\n"
          ],
          "name": "stdout"
        }
      ]
    },
    {
      "cell_type": "markdown",
      "metadata": {
        "id": "AxidxkM4hkff",
        "colab_type": "text"
      },
      "source": [
        "we can also use union operater & and union function of set for union "
      ]
    },
    {
      "cell_type": "code",
      "metadata": {
        "id": "31Ya6ErihXQB",
        "colab_type": "code",
        "colab": {
          "base_uri": "https://localhost:8080/",
          "height": 52
        },
        "outputId": "2cd05890-f5cb-4863-f262-85a391bec86b"
      },
      "source": [
        "# union operater \n",
        "print(a.union(c))\n",
        "a | c"
      ],
      "execution_count": 16,
      "outputs": [
        {
          "output_type": "stream",
          "text": [
            "{1, 2, 3, 4, 5, 6, 7, 8, 9}\n"
          ],
          "name": "stdout"
        },
        {
          "output_type": "execute_result",
          "data": {
            "text/plain": [
              "{1, 2, 3, 4, 5, 6, 7, 8, 9}"
            ]
          },
          "metadata": {
            "tags": []
          },
          "execution_count": 16
        }
      ]
    },
    {
      "cell_type": "markdown",
      "metadata": {
        "id": "Mt1yBQbLhtF5",
        "colab_type": "text"
      },
      "source": [
        "for intersection operater or intersection function \n",
        "\n",
        "\n",
        "\n"
      ]
    },
    {
      "cell_type": "code",
      "metadata": {
        "id": "ZrxfhZ_shsrK",
        "colab_type": "code",
        "colab": {
          "base_uri": "https://localhost:8080/",
          "height": 52
        },
        "outputId": "8c74a0a7-92f0-42a4-f4fa-9cfd93e0f2ae"
      },
      "source": [
        "print(a.intersection(b))\n",
        "a & b"
      ],
      "execution_count": 17,
      "outputs": [
        {
          "output_type": "stream",
          "text": [
            "{2, 3, 4}\n"
          ],
          "name": "stdout"
        },
        {
          "output_type": "execute_result",
          "data": {
            "text/plain": [
              "{2, 3, 4}"
            ]
          },
          "metadata": {
            "tags": []
          },
          "execution_count": 17
        }
      ]
    },
    {
      "cell_type": "code",
      "metadata": {
        "id": "Doo3hGbBgGKM",
        "colab_type": "code",
        "colab": {
          "base_uri": "https://localhost:8080/",
          "height": 34
        },
        "outputId": "d7739b21-78fd-449c-874f-ef8702383a58"
      },
      "source": [
        "b.issubset(a) # to check wheter it is subset of other set "
      ],
      "execution_count": 6,
      "outputs": [
        {
          "output_type": "execute_result",
          "data": {
            "text/plain": [
              "True"
            ]
          },
          "metadata": {
            "tags": []
          },
          "execution_count": 6
        }
      ]
    },
    {
      "cell_type": "code",
      "metadata": {
        "id": "CqUV4SzegRIU",
        "colab_type": "code",
        "colab": {
          "base_uri": "https://localhost:8080/",
          "height": 34
        },
        "outputId": "36cf3437-e46f-49a1-ad99-a5159532336a"
      },
      "source": [
        "a.issuperset(b) # to check wether it is super set or not "
      ],
      "execution_count": 8,
      "outputs": [
        {
          "output_type": "execute_result",
          "data": {
            "text/plain": [
              "True"
            ]
          },
          "metadata": {
            "tags": []
          },
          "execution_count": 8
        }
      ]
    },
    {
      "cell_type": "code",
      "metadata": {
        "id": "KHIe91HAgdJ3",
        "colab_type": "code",
        "colab": {}
      },
      "source": [
        "a.isdisjoint(c) # check wether  it is disjoint set or not "
      ],
      "execution_count": null,
      "outputs": []
    },
    {
      "cell_type": "markdown",
      "metadata": {
        "id": "TrF3NCnmiOoI",
        "colab_type": "text"
      },
      "source": [
        "difference function or difference operater "
      ]
    },
    {
      "cell_type": "code",
      "metadata": {
        "id": "ETcWzYb0iOXd",
        "colab_type": "code",
        "colab": {
          "base_uri": "https://localhost:8080/",
          "height": 52
        },
        "outputId": "a63bf8e1-694a-4ef8-a8ab-a7a5d2ab7219"
      },
      "source": [
        "print(a.difference(b))\n",
        "#  also use \n",
        "a-b"
      ],
      "execution_count": 20,
      "outputs": [
        {
          "output_type": "stream",
          "text": [
            "{1, 5, 6}\n"
          ],
          "name": "stdout"
        },
        {
          "output_type": "execute_result",
          "data": {
            "text/plain": [
              "{1, 5, 6}"
            ]
          },
          "metadata": {
            "tags": []
          },
          "execution_count": 20
        }
      ]
    },
    {
      "cell_type": "markdown",
      "metadata": {
        "id": "-gvHF6k2iv3z",
        "colab_type": "text"
      },
      "source": [
        "update function to add new element of other set "
      ]
    },
    {
      "cell_type": "code",
      "metadata": {
        "id": "Jgmu8MbZjJUp",
        "colab_type": "code",
        "colab": {
          "base_uri": "https://localhost:8080/",
          "height": 52
        },
        "outputId": "288d96f9-28ef-47de-a853-e7d3435407fd"
      },
      "source": [
        "print(a)\n",
        "a.update(c) # update function to add new element of other set \n",
        "print(a)"
      ],
      "execution_count": 24,
      "outputs": [
        {
          "output_type": "stream",
          "text": [
            "{2, 3, 4, 5, 6}\n",
            "{2, 3, 4, 5, 6, 7, 8, 9}\n"
          ],
          "name": "stdout"
        }
      ]
    },
    {
      "cell_type": "markdown",
      "metadata": {
        "id": "oz6p3Jr2jmAD",
        "colab_type": "text"
      },
      "source": [
        "\n",
        "\n",
        "> Operators for Sets\n",
        "Sets and frozen sets support the following operators:\n",
        "\n",
        "OPERATORS\tNOTES\n",
        "key in s\tcontainment check\n",
        "\n",
        "key not in s\tnon-containment check\n",
        "\n",
        "s1 == s2\ts1 is equivalent to s2\n",
        "\n",
        "s1 != s2\ts1 is not equivalent to s2\n",
        "\n",
        "s1 <= s2\ts1 is subset of s2\n",
        "\n",
        "s1 < s2\ts1 is proper subset of s2\n",
        "\n",
        "s1 >= s2\ts1 is superset of s2\n",
        "\n",
        "s1 > s2\ts1 is proper superset of s2\n",
        "\n",
        "s1 | s2\tthe union of s1 and s2\n",
        "\n",
        "s1 & s2\tthe intersection of s1 and s2\n",
        "\n",
        "s1 – s2\tthe set of elements in s1 but not s2\n",
        "\n",
        "s1 ˆ s2\tthe set of elements in precisely one of s1 or s2\n",
        "\n"
      ]
    },
    {
      "cell_type": "code",
      "metadata": {
        "id": "-gCbBx6djldG",
        "colab_type": "code",
        "colab": {}
      },
      "source": [
        ""
      ],
      "execution_count": null,
      "outputs": []
    },
    {
      "cell_type": "markdown",
      "metadata": {
        "id": "Hg52Kc2_2Yj6",
        "colab_type": "text"
      },
      "source": [
        "# Quetion 4\n",
        "Given a list of n-1 numbers ranging from 1 to n, your task is to find the missing number. There are no duplicates.\n",
        "Input Format:\n",
        "The first line contains n-1 numbers with each number separated by a space.\n",
        "Output Format:\n",
        "Print the missing number\n",
        "Example:\n",
        "Input:1 2 4 6 3 7 8\n",
        "Output:5\n",
        "Explanation:\n",
        "In the above list of numbers 5 is missing and hence 5 is the input"
      ]
    },
    {
      "cell_type": "code",
      "metadata": {
        "id": "_9H9TFKQxyHl",
        "colab_type": "code",
        "colab": {
          "base_uri": "https://localhost:8080/",
          "height": 52
        },
        "outputId": "0450681d-7fbc-48b2-c10a-66a3df25d13d"
      },
      "source": [
        "a= input(\"enter the no \")\n",
        "a=a.split(',')\n",
        "a=list(map(lambda b:int(b),a))\n",
        "a.sort()\n",
        "i=0\n",
        "while i<len(a)-1:\n",
        "    if (a[i+1]-a[i])>1:\n",
        "        print(a[i+1]-1)\n",
        "        break\n",
        "    i=i+1    \n",
        "else :\n",
        "    print(\"complete no \" )       \n",
        "\n"
      ],
      "execution_count": null,
      "outputs": [
        {
          "output_type": "stream",
          "text": [
            "enter the no 1,2,5,6,8,9,7,3\n",
            "4\n"
          ],
          "name": "stdout"
        }
      ]
    },
    {
      "cell_type": "markdown",
      "metadata": {
        "id": "kIWzYbnE8EHI",
        "colab_type": "text"
      },
      "source": [
        "# Question 5\n",
        " \n",
        " ## With a given list L, write a program to print this list L after removing all duplicate values with original order reserved."
      ]
    },
    {
      "cell_type": "code",
      "metadata": {
        "id": "co81IaAZFPE7",
        "colab_type": "code",
        "colab": {
          "base_uri": "https://localhost:8080/",
          "height": 52
        },
        "outputId": "213bcf8d-35d9-4bf7-a23e-618cc9fd9778"
      },
      "source": [
        "import functools\n",
        "a= input(\"Enter the no \")\n",
        "a=a.split(\",\")\n",
        "a=set(a)\n",
        "\n",
        "a=functools.reduce(lambda a,b:a+\",\"+b,a)\n",
        "print(a)"
      ],
      "execution_count": null,
      "outputs": [
        {
          "output_type": "stream",
          "text": [
            "Enter the no 7,7,72,2,8,8,2,2\n",
            "2,7,72,8\n"
          ],
          "name": "stdout"
        }
      ]
    }
  ]
}