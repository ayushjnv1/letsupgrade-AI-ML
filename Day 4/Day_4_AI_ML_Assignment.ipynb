{
  "nbformat": 4,
  "nbformat_minor": 0,
  "metadata": {
    "colab": {
      "name": "Day 4 AI_ML_Assignment",
      "provenance": [],
      "collapsed_sections": []
    },
    "kernelspec": {
      "name": "python3",
      "display_name": "Python 3"
    }
  },
  "cells": [
    {
      "cell_type": "markdown",
      "metadata": {
        "id": "wKRNKCiWLM_x",
        "colab_type": "text"
      },
      "source": [
        "# Question 1"
      ]
    },
    {
      "cell_type": "code",
      "metadata": {
        "id": "ePsqN1p6K9Cl",
        "colab_type": "code",
        "colab": {
          "base_uri": "https://localhost:8080/",
          "height": 141
        },
        "outputId": "2a36aff4-fc64-48a1-bb04-f34dbe8284db"
      },
      "source": [
        "a=26+120j\n",
        "b=37+226j\n",
        "# multiplication of complex no\n",
        "print(\" multiplication \", a*b)\n",
        "# divide on complex no\n",
        "print(\" divide \",a/b)\n",
        "# addition on complex no\n",
        "print(\" addition \",a+b)\n",
        "# subtraction on complex no\n",
        "print(\" subtraction \",a-b)"
      ],
      "execution_count": null,
      "outputs": [
        {
          "output_type": "stream",
          "text": [
            "0.0 + -1.0\n",
            "28082.0 + 51009.0\n",
            "51009.0\n",
            " multiplication  (-26158+10316j)\n",
            " divide  (0.5354561922013538-0.027381065878539414j)\n",
            " addition  (63+346j)\n",
            " subtraction  (-11-106j)\n"
          ],
          "name": "stdout"
        }
      ]
    },
    {
      "cell_type": "markdown",
      "metadata": {
        "id": "XhjDPoCFLL-w",
        "colab_type": "text"
      },
      "source": [
        "# Question 2"
      ]
    },
    {
      "cell_type": "markdown",
      "metadata": {
        "id": "w_ZZcWgTLR-S",
        "colab_type": "text"
      },
      "source": [
        "## range function\n",
        "  *  generally range function use in for loop\n",
        "range function pass three argument in as call \n",
        "1.  start\n",
        "2.  stop\n",
        "3.  step\n",
        "\n",
        "Syntax of range function is :\n",
        "  range (start,stop,step)\n",
        "  if we give only one argument pass in range function then \n",
        "  * it consider as where to stop start & step has default value is start=0 & \n",
        "  step=1\n",
        " \n",
        "  range(5) :- it gives value from 0 to 4, not 5 mean the value that we pass in function is not includes in value\n",
        "\n",
        "  if we pass two argument in range function then\n",
        "  *  it consider as start and stop value of argument & then step default value as 1\n",
        "\n",
        "   we  will pass all three argument in range function \n",
        "  * Ex:- range(2,11,2)\n",
        "  here start value is 2\n",
        "  stop value is 11\n",
        "  step value is 2\n",
        "   Note :- all three arugument taken as +ve & -ve value of **int** only except step didn't except 0 as value give value error \n",
        "\n",
        "A sequence of numbers is returned by the range() function as it’s object that can be accessed by its index value. Both positive and negative indexing is supported by its object.\n",
        "if write like this \n",
        "range(10)[5]\n",
        "it will print value : 6\n",
        "\n",
        "\n"
      ]
    },
    {
      "cell_type": "code",
      "metadata": {
        "id": "8_sqEYYdLQEo",
        "colab_type": "code",
        "colab": {
          "base_uri": "https://localhost:8080/",
          "height": 194
        },
        "outputId": "0e810e0a-41a7-4abb-d32c-ac4edbf7d5c8"
      },
      "source": [
        "for i in range(10,0,-1):\n",
        "    print(i)"
      ],
      "execution_count": null,
      "outputs": [
        {
          "output_type": "stream",
          "text": [
            "10\n",
            "9\n",
            "8\n",
            "7\n",
            "6\n",
            "5\n",
            "4\n",
            "3\n",
            "2\n",
            "1\n"
          ],
          "name": "stdout"
        }
      ]
    },
    {
      "cell_type": "markdown",
      "metadata": {
        "id": "wEdNoGA2VDgq",
        "colab_type": "text"
      },
      "source": [
        "# Question 3"
      ]
    },
    {
      "cell_type": "code",
      "metadata": {
        "id": "gCs-xGaVVJXP",
        "colab_type": "code",
        "colab": {
          "base_uri": "https://localhost:8080/",
          "height": 70
        },
        "outputId": "6b2f9a62-1683-4218-e4cd-77a97e9c4bdc"
      },
      "source": [
        "a=int(input(\"enter the no\"))\n",
        "b= int(input(\"enter the another no\"))\n",
        "if (abs(a-b)>25):\n",
        "    print(a*b)\n",
        "else :\n",
        "    print(a/b)    \n",
        "\n"
      ],
      "execution_count": null,
      "outputs": [
        {
          "output_type": "stream",
          "text": [
            "enter the no2\n",
            "enter the another no29\n",
            "58\n"
          ],
          "name": "stdout"
        }
      ]
    },
    {
      "cell_type": "markdown",
      "metadata": {
        "id": "y5M7k4LgV3MW",
        "colab_type": "text"
      },
      "source": [
        "# Question 4"
      ]
    },
    {
      "cell_type": "code",
      "metadata": {
        "id": "3eELhf0iVt9i",
        "colab_type": "code",
        "colab": {
          "base_uri": "https://localhost:8080/",
          "height": 105
        },
        "outputId": "92c63b29-d88d-416e-e8fc-8fa9b339fe16"
      },
      "source": [
        "a=[i for i in range(1,11)]\n",
        "\n",
        "for i in a:\n",
        "    if (i%2==0):\n",
        "        print(i**2-2)\n"
      ],
      "execution_count": null,
      "outputs": [
        {
          "output_type": "stream",
          "text": [
            "2\n",
            "14\n",
            "34\n",
            "62\n",
            "98\n"
          ],
          "name": "stdout"
        }
      ]
    },
    {
      "cell_type": "markdown",
      "metadata": {
        "id": "HW6tcDaMWl6f",
        "colab_type": "text"
      },
      "source": [
        "# Question 5"
      ]
    },
    {
      "cell_type": "code",
      "metadata": {
        "id": "lPfyT7SXWn79",
        "colab_type": "code",
        "colab": {
          "base_uri": "https://localhost:8080/",
          "height": 158
        },
        "outputId": "d6250016-7775-4ab8-9596-092e6b8a73c7"
      },
      "source": [
        "a=[i for i in range(1,21)]\n",
        "print(a)\n",
        "for i in a:\n",
        "    if(i>7 and i%2==0):\n",
        "        print(i)"
      ],
      "execution_count": null,
      "outputs": [
        {
          "output_type": "stream",
          "text": [
            "[1, 2, 3, 4, 5, 6, 7, 8, 9, 10, 11, 12, 13, 14, 15, 16, 17, 18, 19, 20]\n",
            "8\n",
            "10\n",
            "12\n",
            "14\n",
            "16\n",
            "18\n",
            "20\n"
          ],
          "name": "stdout"
        }
      ]
    }
  ]
}