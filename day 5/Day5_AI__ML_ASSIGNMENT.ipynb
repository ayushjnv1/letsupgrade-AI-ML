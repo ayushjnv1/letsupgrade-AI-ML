{
  "nbformat": 4,
  "nbformat_minor": 0,
  "metadata": {
    "colab": {
      "name": " Day5 AI_ ML ASSIGNMENT",
      "provenance": [],
      "collapsed_sections": [
        "fJoabru0s8zT",
        "BB1pUW1NusMD",
        "_EzGfgP90FuT",
        "JPKa8otZEXiL"
      ]
    },
    "kernelspec": {
      "name": "python3",
      "display_name": "Python 3"
    }
  },
  "cells": [
    {
      "cell_type": "markdown",
      "metadata": {
        "id": "fJoabru0s8zT",
        "colab_type": "text"
      },
      "source": [
        "# Question 1\n",
        "\n",
        "## Write a Python program to find the first 20 non-even prime natural numbers\n"
      ]
    },
    {
      "cell_type": "code",
      "metadata": {
        "id": "vbyRNhyKtAht",
        "colab_type": "code",
        "colab": {}
      },
      "source": [
        "def primeno():\n",
        "    count = 0\n",
        "    i=2\n",
        "    while count<20:\n",
        "        for j in range(2, i):\n",
        "            if i%j==0:\n",
        "                break\n",
        "        else :\n",
        "            if (i%2!=0):\n",
        "                print(i)\n",
        "                count=count+1\n",
        "        i=i+1        \n",
        "        "
      ],
      "execution_count": 78,
      "outputs": []
    },
    {
      "cell_type": "code",
      "metadata": {
        "id": "T08ClHdNfipI",
        "colab_type": "code",
        "colab": {
          "base_uri": "https://localhost:8080/",
          "height": 372
        },
        "outputId": "8de8998f-669d-441a-8d98-466462193c93"
      },
      "source": [
        "primeno()"
      ],
      "execution_count": 81,
      "outputs": [
        {
          "output_type": "stream",
          "text": [
            "3\n",
            "5\n",
            "7\n",
            "11\n",
            "13\n",
            "17\n",
            "19\n",
            "23\n",
            "29\n",
            "31\n",
            "37\n",
            "41\n",
            "43\n",
            "47\n",
            "53\n",
            "59\n",
            "61\n",
            "67\n",
            "71\n",
            "73\n"
          ],
          "name": "stdout"
        }
      ]
    },
    {
      "cell_type": "markdown",
      "metadata": {
        "id": "BB1pUW1NusMD",
        "colab_type": "text"
      },
      "source": [
        "# Quetion 2\n",
        "\n",
        "## Write a Python program to implement 15 functions of string"
      ]
    },
    {
      "cell_type": "code",
      "metadata": {
        "id": "MGx9ZMl6gDcP",
        "colab_type": "code",
        "colab": {
          "base_uri": "https://localhost:8080/",
          "height": 35
        },
        "outputId": "a27b83a0-5396-4156-a677-1cadc566a705"
      },
      "source": [
        "a=\"ayush Maheshwari\"\n",
        "a.capitalize()  # capital only first character and all other convert to lower"
      ],
      "execution_count": 17,
      "outputs": [
        {
          "output_type": "execute_result",
          "data": {
            "application/vnd.google.colaboratory.intrinsic": {
              "type": "string"
            },
            "text/plain": [
              "'Ayush maheshwari'"
            ]
          },
          "metadata": {
            "tags": []
          },
          "execution_count": 17
        }
      ]
    },
    {
      "cell_type": "code",
      "metadata": {
        "id": "oAw3pVh4vNYg",
        "colab_type": "code",
        "colab": {
          "base_uri": "https://localhost:8080/",
          "height": 35
        },
        "outputId": "f3ccdd97-ad74-4d53-9b1f-ffaa812195dd"
      },
      "source": [
        "a=\"ayush maheshari\"\n",
        "a.title()  # capital the first letter of the word"
      ],
      "execution_count": 18,
      "outputs": [
        {
          "output_type": "execute_result",
          "data": {
            "application/vnd.google.colaboratory.intrinsic": {
              "type": "string"
            },
            "text/plain": [
              "'Ayush Maheshari'"
            ]
          },
          "metadata": {
            "tags": []
          },
          "execution_count": 18
        }
      ]
    },
    {
      "cell_type": "code",
      "metadata": {
        "id": "unnYWQ12vaUr",
        "colab_type": "code",
        "colab": {
          "base_uri": "https://localhost:8080/",
          "height": 34
        },
        "outputId": "58716f54-4884-4787-d2e0-728ec408d44f"
      },
      "source": [
        "a=\"ayush maheshwari\"\n",
        "a.count(\"a\") # it count the no of string come present in string"
      ],
      "execution_count": 19,
      "outputs": [
        {
          "output_type": "execute_result",
          "data": {
            "text/plain": [
              "3"
            ]
          },
          "metadata": {
            "tags": []
          },
          "execution_count": 19
        }
      ]
    },
    {
      "cell_type": "code",
      "metadata": {
        "id": "V-V-VrTOvtDw",
        "colab_type": "code",
        "colab": {
          "base_uri": "https://localhost:8080/",
          "height": 34
        },
        "outputId": "4e2eb5fb-37fc-4e0f-8482-466118712a63"
      },
      "source": [
        "a=\"Ayush maheshwari\"\n",
        "a.casefold() ==  \"Ayush maheshwari\".casefold() # it use to compare the string in ignore capital or lower case \n"
      ],
      "execution_count": 26,
      "outputs": [
        {
          "output_type": "execute_result",
          "data": {
            "text/plain": [
              "True"
            ]
          },
          "metadata": {
            "tags": []
          },
          "execution_count": 26
        }
      ]
    },
    {
      "cell_type": "code",
      "metadata": {
        "id": "Gybr7fDiwXyD",
        "colab_type": "code",
        "colab": {
          "base_uri": "https://localhost:8080/",
          "height": 185
        },
        "outputId": "7fc48696-2063-4c7b-e3f7-927b1588750c"
      },
      "source": [
        "a=\"ayush maheshwari\"\n",
        "a.index(\"ma\",7)# it also work as find but only difference is that it give error or exception when String not found"
      ],
      "execution_count": 29,
      "outputs": [
        {
          "output_type": "error",
          "ename": "ValueError",
          "evalue": "ignored",
          "traceback": [
            "\u001b[0;31m---------------------------------------------------------------------------\u001b[0m",
            "\u001b[0;31mValueError\u001b[0m                                Traceback (most recent call last)",
            "\u001b[0;32m<ipython-input-29-342238b37e48>\u001b[0m in \u001b[0;36m<module>\u001b[0;34m()\u001b[0m\n\u001b[1;32m      1\u001b[0m \u001b[0ma\u001b[0m\u001b[0;34m=\u001b[0m\u001b[0;34m\"ayush maheshwari\"\u001b[0m\u001b[0;34m\u001b[0m\u001b[0;34m\u001b[0m\u001b[0m\n\u001b[0;32m----> 2\u001b[0;31m \u001b[0ma\u001b[0m\u001b[0;34m.\u001b[0m\u001b[0mindex\u001b[0m\u001b[0;34m(\u001b[0m\u001b[0;34m\"ma\"\u001b[0m\u001b[0;34m,\u001b[0m\u001b[0;36m7\u001b[0m\u001b[0;34m)\u001b[0m\u001b[0;34m\u001b[0m\u001b[0;34m\u001b[0m\u001b[0m\n\u001b[0m",
            "\u001b[0;31mValueError\u001b[0m: substring not found"
          ]
        }
      ]
    },
    {
      "cell_type": "code",
      "metadata": {
        "id": "T4UJa2P1wb_h",
        "colab_type": "code",
        "colab": {
          "base_uri": "https://localhost:8080/",
          "height": 34
        },
        "outputId": "4cf7fd32-be3e-4bd1-9ee9-a5a4f3a036b7"
      },
      "source": [
        "a=\"ayush maheshwari\"\n",
        "a.find(\"ma\",7)  # find function use to find wether the String present in string or not if not present then return -1 else return index no of that"
      ],
      "execution_count": 30,
      "outputs": [
        {
          "output_type": "execute_result",
          "data": {
            "text/plain": [
              "-1"
            ]
          },
          "metadata": {
            "tags": []
          },
          "execution_count": 30
        }
      ]
    },
    {
      "cell_type": "code",
      "metadata": {
        "id": "CPbu4FpJxFAT",
        "colab_type": "code",
        "colab": {
          "base_uri": "https://localhost:8080/",
          "height": 34
        },
        "outputId": "e9b0a590-b4c4-490e-e7e8-503a7c643cd6"
      },
      "source": [
        "a=\"1\"\n",
        "a.isalnum() # use to know that whole  string is number or not "
      ],
      "execution_count": 33,
      "outputs": [
        {
          "output_type": "execute_result",
          "data": {
            "text/plain": [
              "True"
            ]
          },
          "metadata": {
            "tags": []
          },
          "execution_count": 33
        }
      ]
    },
    {
      "cell_type": "code",
      "metadata": {
        "id": "zhHT6c2txZRl",
        "colab_type": "code",
        "colab": {
          "base_uri": "https://localhost:8080/",
          "height": 34
        },
        "outputId": "82273d00-9d0c-4cad-d3d5-44c45c17a40a"
      },
      "source": [
        "a=\"ayush maheshwari\"\n",
        "a.islower() # use to know that whole string in lower case or not "
      ],
      "execution_count": 35,
      "outputs": [
        {
          "output_type": "execute_result",
          "data": {
            "text/plain": [
              "True"
            ]
          },
          "metadata": {
            "tags": []
          },
          "execution_count": 35
        }
      ]
    },
    {
      "cell_type": "code",
      "metadata": {
        "id": "5koNJTM8xohL",
        "colab_type": "code",
        "colab": {
          "base_uri": "https://localhost:8080/",
          "height": 34
        },
        "outputId": "0d704f38-feb8-42d9-9ecf-bc2b0dd16f5f"
      },
      "source": [
        "a=\"ayush maheshwari\"\n",
        "a.isupper() # use to know that whole string in upper  case or not "
      ],
      "execution_count": 36,
      "outputs": [
        {
          "output_type": "execute_result",
          "data": {
            "text/plain": [
              "False"
            ]
          },
          "metadata": {
            "tags": []
          },
          "execution_count": 36
        }
      ]
    },
    {
      "cell_type": "code",
      "metadata": {
        "id": "yCGEaMrVxy-H",
        "colab_type": "code",
        "colab": {
          "base_uri": "https://localhost:8080/",
          "height": 35
        },
        "outputId": "10ac2023-3764-446b-a604-a0e3b62c4415"
      },
      "source": [
        "a=\"Ayush {} Mahesh {} wari\"\n",
        "a.format(\"***\",\"123456\") # use to formate the string"
      ],
      "execution_count": 39,
      "outputs": [
        {
          "output_type": "execute_result",
          "data": {
            "application/vnd.google.colaboratory.intrinsic": {
              "type": "string"
            },
            "text/plain": [
              "'Ayush *** Mahesh 123456 wari'"
            ]
          },
          "metadata": {
            "tags": []
          },
          "execution_count": 39
        }
      ]
    },
    {
      "cell_type": "code",
      "metadata": {
        "id": "dyqH3oVKyL_x",
        "colab_type": "code",
        "colab": {
          "base_uri": "https://localhost:8080/",
          "height": 34
        },
        "outputId": "01177435-63f5-42df-e550-727098a39a1e"
      },
      "source": [
        "a=\"Ayush Maheshwari\"\n",
        "\n",
        " # This function is used to check if the argument contains all whitespace characters such as :\n",
        "'''\n",
        "‘ ‘ – Space\n",
        "‘\\t’ – Horizontal tab\n",
        "‘\\n’ – Newline\n",
        "‘\\v’ – Vertical tab\n",
        "‘\\f’ – Feed\n",
        "‘\\r’ – Carriage return'''\n",
        "print(a.isspace())"
      ],
      "execution_count": 42,
      "outputs": [
        {
          "output_type": "stream",
          "text": [
            "False\n"
          ],
          "name": "stdout"
        }
      ]
    },
    {
      "cell_type": "code",
      "metadata": {
        "id": "hNxBjGbHyuux",
        "colab_type": "code",
        "colab": {
          "base_uri": "https://localhost:8080/",
          "height": 35
        },
        "outputId": "518f7381-1ce9-4b8b-b6cc-cd81bcb9f5a9"
      },
      "source": [
        "a=\"Ayush maheshwari\"\n",
        "a.upper() # this function use to convert whole String in upper case"
      ],
      "execution_count": 44,
      "outputs": [
        {
          "output_type": "execute_result",
          "data": {
            "application/vnd.google.colaboratory.intrinsic": {
              "type": "string"
            },
            "text/plain": [
              "'AYUSH MAHESHWARI'"
            ]
          },
          "metadata": {
            "tags": []
          },
          "execution_count": 44
        }
      ]
    },
    {
      "cell_type": "code",
      "metadata": {
        "id": "3557FXE-zCcQ",
        "colab_type": "code",
        "colab": {
          "base_uri": "https://localhost:8080/",
          "height": 35
        },
        "outputId": "8afbf51d-85d6-4196-fb8f-8024690c6011"
      },
      "source": [
        "a=\"AYUSH MAHESHWARI\"\n",
        "a.lower()  # this function use to convert whole String in lower case"
      ],
      "execution_count": 46,
      "outputs": [
        {
          "output_type": "execute_result",
          "data": {
            "application/vnd.google.colaboratory.intrinsic": {
              "type": "string"
            },
            "text/plain": [
              "'ayush maheshwari'"
            ]
          },
          "metadata": {
            "tags": []
          },
          "execution_count": 46
        }
      ]
    },
    {
      "cell_type": "code",
      "metadata": {
        "id": "ZkBp2WWIzPUi",
        "colab_type": "code",
        "colab": {
          "base_uri": "https://localhost:8080/",
          "height": 34
        },
        "outputId": "3af06d73-0009-4125-f60a-0484a5ac03df"
      },
      "source": [
        "a=\"Ayush maheshwari\"\n",
        "a.split() # return the split string list if we pass variable then split from that point if no argument then split by white space as bydefault"
      ],
      "execution_count": 48,
      "outputs": [
        {
          "output_type": "execute_result",
          "data": {
            "text/plain": [
              "['Ayush', 'maheshwari']"
            ]
          },
          "metadata": {
            "tags": []
          },
          "execution_count": 48
        }
      ]
    },
    {
      "cell_type": "code",
      "metadata": {
        "id": "5TXly3TzzyOZ",
        "colab_type": "code",
        "colab": {
          "base_uri": "https://localhost:8080/",
          "height": 35
        },
        "outputId": "14bfe337-216a-4750-b0ef-259323d7de83"
      },
      "source": [
        "a=\"ayush maheshwari\"\n",
        "a.replace('a','z') # use  to replace the String in present String"
      ],
      "execution_count": 51,
      "outputs": [
        {
          "output_type": "execute_result",
          "data": {
            "application/vnd.google.colaboratory.intrinsic": {
              "type": "string"
            },
            "text/plain": [
              "'zyush mzheshwzri'"
            ]
          },
          "metadata": {
            "tags": []
          },
          "execution_count": 51
        }
      ]
    },
    {
      "cell_type": "markdown",
      "metadata": {
        "id": "_EzGfgP90FuT",
        "colab_type": "text"
      },
      "source": [
        "# Question 3\n",
        "\n",
        "##  Write a Python program to check if the given string is a Palindrome or Anagram or None of them.\n",
        "## Display the message accordingly to the user.\n"
      ]
    },
    {
      "cell_type": "code",
      "metadata": {
        "id": "pKuUv70N0PCg",
        "colab_type": "code",
        "colab": {
          "base_uri": "https://localhost:8080/",
          "height": 283
        },
        "outputId": "9a9b1977-4cb8-4e8b-d082-633c0fde3358"
      },
      "source": [
        "def isplimdrom(s):\n",
        "    s=s.lower()\n",
        "    if s[:len(s)//2]==s[:len(s)//2:-1]   or s[:len(s)//2]==s[:(len(s)//2)-1:-1] :# for odd string lenth after or for even string length:\n",
        "        return True\n",
        "    else :\n",
        "        return False    \n",
        "    \n",
        "\n",
        "def isanagram(s1,s2):\n",
        "    s1=s1.lower()\n",
        "    s2=s2.lower()\n",
        "    a=list(s1)\n",
        "    b=list(s2)\n",
        "    a.sort()\n",
        "    b.sort()\n",
        "    if a==b :\n",
        "        return True\n",
        "    else :\n",
        "        return False    \n",
        "re=True     \n",
        "while (re == True):\n",
        "    print(\" 1. for Palindrome\")   \n",
        "    print(\" 2. for Anagram \")\n",
        "    n=input(\"Enter the your choice \")\n",
        "    if n=='1':\n",
        "         s=input(\"Enter the String : \")\n",
        "         print(s,\" string is Palindrome \",isplimdrom(s))\n",
        "    elif n=='2' :\n",
        "         s1=input(\"Enter the String : \")\n",
        "         s2=input(\"Enter the String : \")\n",
        "         print(s1,\" & \", s2 ,\"is anagram \",isanagram(s1,s2))\n",
        "    y=input(\"you want stop  'n' \")\n",
        "    print(y)\n",
        "    if y=='n' :\n",
        "          break\n",
        "        \n",
        "\n"
      ],
      "execution_count": 108,
      "outputs": [
        {
          "output_type": "stream",
          "text": [
            " 1. for Palindrome\n",
            " 2. for Anagram \n",
            "Enter the your choice 1\n",
            "Enter the String : maaam\n",
            "maaam  string is Palindrome  True\n",
            "you want stop  'n' y\n",
            "y\n",
            " 1. for Palindrome\n",
            " 2. for Anagram \n",
            "Enter the your choice 2\n",
            "Enter the String : ayush\n",
            "Enter the String : yusah\n",
            "ayush  &  yusah is anagram  True\n",
            "you want stop  'n' n\n",
            "n\n"
          ],
          "name": "stdout"
        }
      ]
    },
    {
      "cell_type": "markdown",
      "metadata": {
        "id": "JPKa8otZEXiL",
        "colab_type": "text"
      },
      "source": [
        "# Question 4\n",
        "\n",
        "## Write a Python's user defined function that removes all the additional characters from the string\n",
        "##and converts it finally to lower case using built-in lower(). eg: If the string is \"Dr. Darshan Ingle\n",
        "##@AI-ML Trainer\", then the output be \"drdarshaningleaimltrainer\"."
      ]
    },
    {
      "cell_type": "code",
      "metadata": {
        "id": "hqc4Wjg3Eifj",
        "colab_type": "code",
        "colab": {
          "base_uri": "https://localhost:8080/",
          "height": 52
        },
        "outputId": "3640bb88-f5d7-4cdb-8c9e-91c74cb1709b"
      },
      "source": [
        "def strcon(s):\n",
        "    s1=''\n",
        "    for i in s:\n",
        "        if (i.isalpha()):\n",
        "            s1=s1+i.lower()\n",
        "    return s1    \n",
        "\n",
        "s=input(\"Enter the String\")\n",
        "print(strcon(s))        "
      ],
      "execution_count": 110,
      "outputs": [
        {
          "output_type": "stream",
          "text": [
            "Enter the StringDr. Darshan Ingle @AI-ML Trainer\n",
            "drdarshaningleaimltrainer\n"
          ],
          "name": "stdout"
        }
      ]
    }
  ]
}